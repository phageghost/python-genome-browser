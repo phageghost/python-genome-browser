{
 "cells": [
  {
   "cell_type": "code",
   "execution_count": 40,
   "metadata": {},
   "outputs": [],
   "source": [
    "import gzip\n",
    "# from BCBio.GFF import GFFExaminer\n",
    "from pprint import pprint\n",
    "from imp import reload\n",
    "import pandas\n",
    "\n",
    "\n",
    "import pygbrowse"
   ]
  },
  {
   "cell_type": "code",
   "execution_count": 9,
   "metadata": {},
   "outputs": [],
   "source": [
    "examiner = GFFExaminer()\n",
    "\n",
    "gff_handle = gzip.open(gff3_fname)\n",
    "\n",
    "pprint(examiner.available_limits(gff_handle))"
   ]
  },
  {
   "cell_type": "markdown",
   "metadata": {},
   "source": [
    "## Download GFF3 file"
   ]
  },
  {
   "cell_type": "markdown",
   "metadata": {},
   "source": [
    "## Just plot gene models"
   ]
  },
  {
   "cell_type": "code",
   "execution_count": 4,
   "metadata": {},
   "outputs": [],
   "source": [
    "import pandas"
   ]
  },
  {
   "cell_type": "code",
   "execution_count": 37,
   "metadata": {},
   "outputs": [
    {
     "name": "stdout",
     "output_type": "stream",
     "text": [
      "CPU times: user 5.96 s, sys: 1.12 s, total: 7.09 s\n",
      "Wall time: 18.5 s\n"
     ]
    }
   ],
   "source": [
    "%%time\n",
    "gff3_fname = '/home/dskola/glass_home/model_data/reference_genomes/mm10/Mus_musculus.GRCm38.84.chr.gff3.gz'\n",
    "assert gzip.open(gff3_fname).readline().decode().strip() == '##gff-version   3', 'First line does not indicate a GFF3 file. Currently only GFF3 annotations are supported.'\n",
    "gff_data = pandas.read_csv(gff3_fname,\n",
    "                           sep='\\t',\n",
    "                           comment='#', \n",
    "                           header=None, \n",
    "                           names=['seqid', 'source', 'type', 'start', 'end', 'score', 'strand', 'phase', 'attributes'],\n",
    "                           dtype={'seqid':str, 'source':str, 'type':str, 'start':int, 'end':int, 'score':str, 'strand':str, 'phase':str, 'attributes':str})\n"
   ]
  },
  {
   "cell_type": "code",
   "execution_count": 38,
   "metadata": {},
   "outputs": [
    {
     "data": {
      "text/plain": [
       "seqid         object\n",
       "source        object\n",
       "type          object\n",
       "start          int64\n",
       "end            int64\n",
       "score         object\n",
       "strand        object\n",
       "phase         object\n",
       "attributes    object\n",
       "dtype: object"
      ]
     },
     "execution_count": 38,
     "metadata": {},
     "output_type": "execute_result"
    }
   ],
   "source": [
    "gff_data.dtypes"
   ]
  },
  {
   "cell_type": "code",
   "execution_count": 73,
   "metadata": {},
   "outputs": [
    {
     "data": {
      "text/plain": [
       "<module 'pygbrowse.plots' from '/home/dskola/workspace/python-genome-browser/pygbrowse/plots.py'>"
      ]
     },
     "execution_count": 73,
     "metadata": {},
     "output_type": "execute_result"
    }
   ],
   "source": [
    "reload(pygbrowse)\n",
    "reload(pygbrowse.plots)"
   ]
  },
  {
   "cell_type": "code",
   "execution_count": 74,
   "metadata": {},
   "outputs": [
    {
     "name": "stdout",
     "output_type": "stream",
     "text": [
      "2018-Jul-23 09:37:38\tLoading gene model information from /home/dskola/glass_home/model_data/reference_genomes/mm10/Mus_musculus.GRCm38.84.chr.gff3.gz. This may take a few minutes ...\n",
      "CPU times: user 1min 36s, sys: 54.2 s, total: 2min 31s\n",
      "Wall time: 10min 24s\n"
     ]
    }
   ],
   "source": [
    "%time gene_models = pygbrowse.plots.GeneModels(gff3_fname)"
   ]
  },
  {
   "cell_type": "code",
   "execution_count": 205,
   "metadata": {},
   "outputs": [
    {
     "data": {
      "image/png": "[encoded data removed]",
      "text/plain": [
       "<Figure size 864x79.2 with 1 Axes>"
      ]
     },
     "metadata": {},
     "output_type": "display_data"
    }
   ],
   "source": [
    "fig = pygbrowse.plots.visualize(plot_objects=[[gene_models]], chrom='chr18', ws=10000000, we=11*1e6)"
   ]
  },
  {
   "cell_type": "markdown",
   "metadata": {},
   "source": [
    "## Continuous data"
   ]
  },
  {
   "cell_type": "markdown",
   "metadata": {},
   "source": [
    "## Idea: Leave the tag data on disk and create vectors on the fly. Would need to grab the appropriate chromosome file and then do a binary search to find the correct start point (then iterate until end). We could do something similar for gene models"
   ]
  },
  {
   "cell_type": "code",
   "execution_count": 306,
   "metadata": {},
   "outputs": [],
   "source": [
    "reload(pygbrowse.datasources)\n",
    "reload(pygbrowse.utilities)\n",
    "\n",
    "tag_directory = '/home/dskola/glass_data/mm10/BMDM/RNA/C57_BMDM_polyA_RNA_notx_BC_16_03_08/'\n",
    "rnaseq_data = pygbrowse.datasources.TagDirectory(tag_directory)"
   ]
  },
  {
   "cell_type": "markdown",
   "metadata": {},
   "source": [
    "## We can query the data backend"
   ]
  },
  {
   "cell_type": "code",
   "execution_count": 307,
   "metadata": {},
   "outputs": [
    {
     "name": "stdout",
     "output_type": "stream",
     "text": [
      "0 2321354 4642709 42524176\n",
      "\ttoo high!\n",
      "0 1160677 2321354 32244793\n",
      "\ttoo high!\n",
      "0 580338 1160677 12301499\n",
      "\ttoo high!\n",
      "0 290169 580338 10004974\n",
      "\ttoo low!\n",
      "290169 435253 580338 11979232\n",
      "\ttoo high!\n",
      "290169 362711 435253 10747428\n",
      "\ttoo high!\n",
      "290169 326440 362711 10116863\n",
      "\ttoo high!\n",
      "290169 308304 326440 10065811\n",
      "\ttoo high!\n",
      "290169 299236 308304 10024578\n",
      "\ttoo high!\n",
      "290169 294702 299236 10011236\n",
      "\ttoo high!\n",
      "290169 292435 294702 10007850\n",
      "\ttoo low!\n",
      "292435 293568 294702 10010020\n",
      "\ttoo high!\n",
      "292435 293001 293568 10009471\n",
      "\ttoo low!\n",
      "293001 293284 293568 10009983\n",
      "\ttoo high!\n",
      "293001 293142 293284 10009964\n",
      "\ttoo low!\n",
      "293142 293213 293284 10009975\n",
      "\ttoo high!\n",
      "293142 293177 293213 10009967\n",
      "\ttoo low!\n",
      "293177 293195 293213 10009967\n",
      "\ttoo low!\n",
      "293195 293204 293213 10009975\n",
      "\ttoo high!\n",
      "293195 293199 293204 10009975\n",
      "\ttoo high!\n",
      "293195 293197 293199 10009975\n",
      "\ttoo high!\n",
      "293195 293196 293197 10009975\n",
      "\ttoo high!\n",
      "final: 293221 \tchr18\t10009975\t1\t1.0\t24\n",
      "\n",
      "CPU times: user 20 ms, sys: 4 ms, total: 24 ms\n",
      "Wall time: 48.6 ms\n",
      "10009970    0.000000\n",
      "10009971    0.000000\n",
      "10009972    0.000000\n",
      "10009973    0.000000\n",
      "10009974    2.380023\n",
      "10009975    0.000000\n",
      "10009976    0.000000\n",
      "10009977    2.380023\n",
      "10009978    0.000000\n",
      "10009979    0.000000\n",
      "10009980    2.380023\n",
      "10009981    0.000000\n",
      "10009982    4.760047\n",
      "10009983    7.140070\n",
      "10009984    0.000000\n",
      "10009985    4.760047\n",
      "10009986    0.000000\n",
      "10009987    0.000000\n",
      "10009988    2.380023\n",
      "10009989    0.000000\n",
      "10009990    4.760047\n",
      "10009991    0.000000\n",
      "10009992    0.000000\n",
      "10009993    0.000000\n",
      "10009994    0.000000\n",
      "10009995    0.000000\n",
      "10009996    0.000000\n",
      "10009997    0.000000\n",
      "10009998    0.000000\n",
      "10009999    0.000000\n",
      "dtype: float64\n"
     ]
    }
   ],
   "source": [
    "%time res = rnaseq_data.query('chr18', 10009970, 10010000)\n",
    "print(res)"
   ]
  },
  {
   "cell_type": "markdown",
   "metadata": {},
   "source": [
    "## Plot"
   ]
  },
  {
   "cell_type": "code",
   "execution_count": 315,
   "metadata": {},
   "outputs": [
    {
     "data": {
      "text/plain": [
       "<module 'pygbrowse.plots' from '/home/dskola/workspace/python-genome-browser/pygbrowse/plots.py'>"
      ]
     },
     "execution_count": 315,
     "metadata": {},
     "output_type": "execute_result"
    }
   ],
   "source": [
    "reload(pygbrowse.plots)"
   ]
  },
  {
   "cell_type": "code",
   "execution_count": 317,
   "metadata": {},
   "outputs": [
    {
     "name": "stdout",
     "output_type": "stream",
     "text": [
      "0 2321354 4642709 42524176\n",
      "\ttoo high!\n",
      "0 1160677 2321354 32244793\n",
      "\ttoo high!\n",
      "0 580338 1160677 12301499\n",
      "\ttoo high!\n",
      "0 290169 580338 10004974\n",
      "\ttoo high!\n",
      "0 145084 290169 6226889\n",
      "\ttoo low!\n",
      "145084 217626 290169 9313681\n",
      "\ttoo low!\n",
      "217626 253897 290169 9848449\n",
      "\ttoo low!\n",
      "253897 272033 290169 9993539\n",
      "\ttoo low!\n",
      "272033 281101 290169 9996010\n",
      "\ttoo low!\n",
      "281101 285635 290169 9997281\n",
      "\ttoo low!\n",
      "285635 287902 290169 10001838\n",
      "\ttoo high!\n",
      "285635 286768 287902 10000528\n",
      "\ttoo high!\n",
      "285635 286201 286768 9997769\n",
      "\ttoo low!\n",
      "286201 286484 286768 9999380\n",
      "\ttoo low!\n",
      "286484 286626 286768 10000511\n",
      "\ttoo high!\n",
      "286484 286555 286626 10000505\n",
      "\ttoo high!\n",
      "286484 286519 286555 9999436\n",
      "\ttoo low!\n",
      "286519 286537 286555 10000505\n",
      "\ttoo high!\n",
      "286519 286528 286537 9999436\n",
      "\ttoo low!\n",
      "286528 286532 286537 9999436\n",
      "\ttoo low!\n",
      "286532 286534 286537 10000505\n",
      "\ttoo high!\n",
      "286532 286533 286534 10000505\n",
      "\ttoo high!\n",
      "final: 286557 \tchr18\t10000505\t1\t1.0\t11\n",
      "\n"
     ]
    },
    {
     "data": {
      "image/png": "[encoded data removed]",
      "text/plain": [
       "<Figure size 864x172.8 with 2 Axes>"
      ]
     },
     "metadata": {},
     "output_type": "display_data"
    }
   ],
   "source": [
    "rnaseq_plot = pygbrowse.plots.WigPlot(rnaseq_data, label='RNA-seq', autoscale=True)\n",
    "fig = pygbrowse.plots.visualize(plot_objects=[[gene_models], [rnaseq_plot]], chrom='chr18', ws=10000000, we=11*1e6)"
   ]
  },
  {
   "cell_type": "markdown",
   "metadata": {},
   "source": [
    "Do we scale vectors to plot or plot to vectors or allow choice? What's a good interface?? Probably do like other plotting functions. Let users transform their data. But in this case it's a backend object, so we might need to be more proactive."
   ]
  },
  {
   "cell_type": "code",
   "execution_count": 331,
   "metadata": {},
   "outputs": [
    {
     "name": "stdout",
     "output_type": "stream",
     "text": [
      "slice(4, 6, None)\n"
     ]
    }
   ],
   "source": [
    "t[4:6]"
   ]
  },
  {
   "cell_type": "code",
   "execution_count": 355,
   "metadata": {},
   "outputs": [],
   "source": [
    "from pygbrowse.datasources import SeriesDict"
   ]
  },
  {
   "cell_type": "code",
   "execution_count": 353,
   "metadata": {},
   "outputs": [],
   "source": [
    "class _ChromWrapper:\n",
    "    def __init__(self, chrom, parent_data_source):\n",
    "        self.chrom = chrom\n",
    "        self.parent_data_source = parent_data_source\n",
    "    \n",
    "    def __getitem__(self, key):\n",
    "        print(key)\n",
    "        # ToDo: Add support for step argument\n",
    "        try:\n",
    "            query_start = key.start\n",
    "            query_end = key.stop\n",
    "        except TypeError: # Handle scalar indices            \n",
    "            query_start = key\n",
    "            query_end = key + 1\n",
    "            \n",
    "        return self.parent_data_source.query(chrom=self.chrom, start=query_start, end=query_end)\n",
    "\n",
    "class _DataVector:\n",
    "    def __init__(self, chrom, parent_data_source):\n",
    "        self.loc = _ChromWrapper(chrom=chrom, parent_data_source=parent_data_source)\n",
    "\n",
    "class _DataSource:\n",
    "    def __init__(self, data, transform=None, smoothing_bandwidth=0):\n",
    "        self.transform = transform\n",
    "        self.smoothing_bandwidth = smoothing_bandwidth\n",
    "        self.data = {chrom:DataVector(chrom=chrom, parent_data_source=self) for chrom in data}  \n",
    "        \n",
    "    def query(self, chrom, start, end)\n",
    "        result = \n",
    "    \n",
    "    def __getitem__(self, key):\n",
    "        return self.data[key]\n",
    "\n",
    "test_data = {'chr1':pandas.Series(numpy.arange(100))}    \n",
    "ds = DataSource()"
   ]
  },
  {
   "cell_type": "code",
   "execution_count": 344,
   "metadata": {},
   "outputs": [],
   "source": [
    "class SliceTester:\n",
    "    def __getitem__(self, key):\n",
    "        return key\n",
    "st = SliceTester()\n",
    "\n",
    "s = st[4:8]"
   ]
  },
  {
   "cell_type": "code",
   "execution_count": 351,
   "metadata": {},
   "outputs": [],
   "source": [
    "x = 4"
   ]
  },
  {
   "cell_type": "code",
   "execution_count": 352,
   "metadata": {},
   "outputs": [
    {
     "ename": "TypeError",
     "evalue": "'int' object is not subscriptable",
     "output_type": "error",
     "traceback": [
      "\u001b[0;31m---------------------------------------------------------------------------\u001b[0m",
      "\u001b[0;31mTypeError\u001b[0m                                 Traceback (most recent call last)",
      "\u001b[0;32m<ipython-input-352-79fabfb24f1f>\u001b[0m in \u001b[0;36m<module>\u001b[0;34m()\u001b[0m\n\u001b[0;32m----> 1\u001b[0;31m \u001b[0mx\u001b[0m\u001b[0;34m[\u001b[0m\u001b[0;36m4\u001b[0m\u001b[0;34m:\u001b[0m\u001b[0;36m8\u001b[0m\u001b[0;34m]\u001b[0m\u001b[0;34m\u001b[0m\u001b[0m\n\u001b[0m",
      "\u001b[0;31mTypeError\u001b[0m: 'int' object is not subscriptable"
     ]
    }
   ],
   "source": [
    "x[4:8]"
   ]
  },
  {
   "cell_type": "code",
   "execution_count": 328,
   "metadata": {},
   "outputs": [],
   "source": [
    "y = pandas.Series()\n",
    "y.__getitem__()"
   ]
  },
  {
   "cell_type": "code",
   "execution_count": null,
   "metadata": {},
   "outputs": [],
   "source": []
  },
  {
   "cell_type": "code",
   "execution_count": null,
   "metadata": {},
   "outputs": [],
   "source": []
  },
  {
   "cell_type": "code",
   "execution_count": 288,
   "metadata": {},
   "outputs": [
    {
     "name": "stdout",
     "output_type": "stream",
     "text": [
      "0 2321354 4642709 42524176\n",
      "\ttoo high!\n",
      "0 1160677 2321354 32244793\n",
      "\ttoo high!\n",
      "0 580338 1160677 12301499\n",
      "\ttoo low!\n",
      "580338 870507 1160677 24506012\n",
      "\ttoo low!\n",
      "870507 1015592 1160677 31583726\n",
      "\ttoo high!\n",
      "870507 943049 1015592 24683119\n",
      "\ttoo low!\n",
      "943049 979320 1015592 30267981\n",
      "\ttoo high!\n",
      "943049 961184 979320 25151229\n",
      "\ttoo low!\n",
      "961184 970252 979320 25464373\n",
      "\ttoo low!\n",
      "970252 974786 979320 28187473\n",
      "\ttoo low!\n",
      "974786 977053 979320 28189012\n",
      "\ttoo low!\n",
      "977053 978186 979320 29639032\n",
      "\ttoo low!\n",
      "978186 978753 979320 30267710\n",
      "\ttoo high!\n",
      "978186 978469 978753 30267345\n",
      "\ttoo high!\n",
      "978186 978327 978469 30267178\n",
      "\ttoo high!\n",
      "978186 978256 978327 30107677\n",
      "\ttoo high!\n",
      "978186 978221 978256 29862291\n",
      "\ttoo low!\n",
      "978221 978238 978256 30107677\n",
      "\ttoo high!\n",
      "978221 978229 978238 29862291\n",
      "\ttoo low!\n",
      "978229 978233 978238 30107677\n",
      "\ttoo high!\n",
      "978229 978231 978233 29862291\n",
      "\ttoo low!\n",
      "978231 978232 978233 29862291\n",
      "\ttoo low!\n",
      "final: 978258 \tchr18\t30107677\t0\t1.0\t50\n",
      "\n",
      "CPU times: user 16 ms, sys: 0 ns, total: 16 ms\n",
      "Wall time: 34.6 ms\n",
      "978258\n",
      "\n",
      "\tchr18\t30107677\t0\t1.0\t50\n",
      "\n"
     ]
    }
   ],
   "source": [
    "reload(pygbrowse.utilities)\n",
    "%time res = pygbrowse.utilities.binary_search_tag_file(tag_filename, 29862292)\n",
    "print(res)\n",
    "print()\n",
    "with open(tag_filename, 'rt') as tag_file:\n",
    "    tag_file.seek(res)\n",
    "    print(tag_file.readline())"
   ]
  },
  {
   "cell_type": "code",
   "execution_count": null,
   "metadata": {},
   "outputs": [],
   "source": []
  },
  {
   "cell_type": "code",
   "execution_count": 236,
   "metadata": {},
   "outputs": [
    {
     "name": "stdout",
     "output_type": "stream",
     "text": [
      "\tchr18\t9999436\t1\t1.0\t50\n",
      "\n"
     ]
    }
   ],
   "source": [
    "tag_filename = os.path.join(tag_directory, 'chr18.tags.tsv')\n",
    "with open(tag_filename, 'rt') as tag_file:\n",
    "    tag_file.seek(286532 + 1)\n",
    "    print(tag_file.readline())"
   ]
  },
  {
   "cell_type": "code",
   "execution_count": null,
   "metadata": {},
   "outputs": [],
   "source": []
  },
  {
   "cell_type": "code",
   "execution_count": 177,
   "metadata": {},
   "outputs": [],
   "source": [
    "reload(pygbrowse.utilities )\n",
    "from pygbrowse.utilities import *"
   ]
  },
  {
   "cell_type": "code",
   "execution_count": 266,
   "metadata": {},
   "outputs": [
    {
     "name": "stdout",
     "output_type": "stream",
     "text": [
      "\tchr18\t3004907\t1\t1.0\t48\n",
      "\n"
     ]
    }
   ],
   "source": [
    "with open(tag_filename, 'rt') as tag_file:\n",
    "    tag_file.seek(0)\n",
    "    print(tag_file.readline())"
   ]
  },
  {
   "cell_type": "code",
   "execution_count": 204,
   "metadata": {},
   "outputs": [
    {
     "data": {
      "text/plain": [
       "<module 'pygbrowse.datasources' from '/home/dskola/workspace/python-genome-browser/pygbrowse/datasources.py'>"
      ]
     },
     "execution_count": 204,
     "metadata": {},
     "output_type": "execute_result"
    }
   ],
   "source": [
    "# import pygbrowse.datasources\n",
    "# reload(pygbrowse.datasources)\n",
    "from pygbrowse import datasources\n",
    "reload(datasources)"
   ]
  },
  {
   "cell_type": "code",
   "execution_count": 196,
   "metadata": {},
   "outputs": [
    {
     "ename": "NameError",
     "evalue": "name '_BrowserSubPlot' is not defined",
     "output_type": "error",
     "traceback": [
      "\u001b[0;31m---------------------------------------------------------------------------\u001b[0m",
      "\u001b[0;31mNameError\u001b[0m                                 Traceback (most recent call last)",
      "\u001b[0;32m<ipython-input-196-affece2773ff>\u001b[0m in \u001b[0;36m<module>\u001b[0;34m()\u001b[0m\n\u001b[0;32m----> 1\u001b[0;31m \u001b[0;32mclass\u001b[0m \u001b[0mWigPlot\u001b[0m\u001b[0;34m(\u001b[0m\u001b[0m_BrowserSubPlot\u001b[0m\u001b[0;34m)\u001b[0m\u001b[0;34m:\u001b[0m\u001b[0;34m\u001b[0m\u001b[0m\n\u001b[0m\u001b[1;32m      2\u001b[0m     def __init__(self, chromosome_series, label=None, color=None, center=False, scale=False, ylim=None,\n\u001b[1;32m      3\u001b[0m                  convolution_kernel=None):\n\u001b[1;32m      4\u001b[0m         \u001b[0msuper\u001b[0m\u001b[0;34m(\u001b[0m\u001b[0mWigPlot\u001b[0m\u001b[0;34m,\u001b[0m \u001b[0mself\u001b[0m\u001b[0;34m)\u001b[0m\u001b[0;34m.\u001b[0m\u001b[0m__init__\u001b[0m\u001b[0;34m(\u001b[0m\u001b[0;34m)\u001b[0m\u001b[0;34m\u001b[0m\u001b[0m\n\u001b[1;32m      5\u001b[0m         \u001b[0mself\u001b[0m\u001b[0;34m.\u001b[0m\u001b[0mcolor\u001b[0m \u001b[0;34m=\u001b[0m \u001b[0mcolor\u001b[0m\u001b[0;34m\u001b[0m\u001b[0m\n",
      "\u001b[0;31mNameError\u001b[0m: name '_BrowserSubPlot' is not defined"
     ]
    }
   ],
   "source": [
    "class WigPlot(_BrowserSubPlot):\n",
    "    def __init__(self, data, label=None, color=None, center=False, scale=False, ylim=None,\n",
    "                 convolution_kernel=None):\n",
    "        super(WigPlot, self).__init__()\n",
    "        self.data = data\n",
    "        self.color = color\n",
    "        self.vector = vector_series\n",
    "        self.center = center\n",
    "        self.scale = scale\n",
    "        self.label = label\n",
    "        self.convolution_kernel = convolution_kernel\n",
    "        self.ylim = ylim\n",
    "        self.normalization_factor = 1\n",
    "        \n",
    "    def plot(self, ax):\n",
    "        if self.ylim:\n",
    "            ylim = self.ylim\n",
    "        else:\n",
    "            ylim = ax.get_ylim()\n",
    "\n",
    "        vert_span = (ylim[1] - ylim[0])\n",
    "        vert_center = vert_span / 2 + ylim[0]\n",
    "\n",
    "        this_plot_vector = self.data.query(chrom = self.chrom, start = self.ws, end = self.we)\n",
    "\n",
    "        if self.convolution_kernel is not None:\n",
    "            this_plot_vector = pandas.Series(\n",
    "                scipy.signal.convolve(this_plot_vector, self.convolution_kernel, mode='same'),\n",
    "                index=this_plot_vector.index)\n",
    "\n",
    "        if self.scale:\n",
    "            this_plot_vector /= (this_plot_vector.max() - this_plot_vector.min())\n",
    "            this_plot_vector *= vert_span\n",
    "\n",
    "        if self.center:\n",
    "            this_plot_vector -= this_plot_vector.mean()\n",
    "            this_plot_vector += vert_center\n",
    "        #         print(self.center, self.scale, vert_center, vert_span, this_plot_vector.min(), this_plot_vector.max())\n",
    "\n",
    "        this_plot_vector = this_plot_vector.loc[\n",
    "            (this_plot_vector.index >= self.ws) & (this_plot_vector.index < self.we)]\n",
    "        ax.plot(this_plot_vector.index, this_plot_vector, color=self.color, label=self.label)\n",
    "        ax.set_ylim(ylim)\n",
    "    \n",
    "    \n",
    "class TagDirectory(GenomicVectorData):\n",
    "    tag_strand_translator = {0:'+', 1:'-'}\n",
    "    def __init__(self, tag_directory_path, normalize_to=DEFAULT_TAG_COUNT_NORMALIZATION_TARGET):\n",
    "        self.tag_directory_path = tag_directory_path\n",
    "\n",
    "        if normalize_to:\n",
    "            # extract total tag count from tagInfo.txt\n",
    "            tag_info_fname = os.path.join(path_to_tag_folder, 'tagInfo.txt')\n",
    "            with open(tag_info_fname, 'rt') as tag_info_file:\n",
    "                sizeline = tag_info_file.readlines()[1].split('\\t')\n",
    "            assert sizeline[0] == 'genome'\n",
    "            num_tags = int(sizeline[2])\n",
    "\n",
    "            self.normalization_factor = self.num_tags / normalize_to\n",
    "        \n",
    "    def query(self, chrom, start, end, read_handling='starts'):\n",
    "        # ToDo: Add argument validation to all functions and methods with string parameters\n",
    "        # ToDo: Add verbosity-based logging output\n",
    "        # ToDo; Compare performance with memory-mapped pandas DataFrames\n",
    "        query_result = pandas.Series(numpy.zeros(end-start), index=numpy.arange(start, end))\n",
    "        \n",
    "        tag_filename = os.path.join(self.tag_directory_path, '{}.tags.tsv'.format(chrom))\n",
    "        start_offset = binary_search_tag_file(tag_filename=tag_filename, search_target=start + 1)\n",
    "\n",
    "        with open(tag_filename, 'rt') as tag_file:\n",
    "            tag_file.seek(start_offset)\n",
    "            line_fields = tag_file.readline().strip().split('\\t')\n",
    "            chrom = line_fields[0]\n",
    "            start = int(line_fields[1]) - 1\n",
    "            strand = self.tag_strand_translator[int(line_fields[2])]\n",
    "            depth = float(line_fields[3])            \n",
    "            \n",
    "            if read_handling == 'starts':\n",
    "                query_result.iloc[start] = depth\n",
    "            elif read_handling == 'reads':\n",
    "                read_len = int(line_fields[4])\n",
    "                query_result.iloc[start:start+read_len] = depth\n",
    "        \n",
    "        query_result *= self.normalization_factor\n",
    "        \n",
    "        return query_result"
   ]
  },
  {
   "cell_type": "code",
   "execution_count": 199,
   "metadata": {},
   "outputs": [
    {
     "data": {
      "text/plain": [
       "1050    1050\n",
       "1051    1051\n",
       "1052    1052\n",
       "1053    1053\n",
       "1054    1054\n",
       "1055    1055\n",
       "1056    1056\n",
       "1057    1057\n",
       "1058    1058\n",
       "1059    1059\n",
       "1060    1060\n",
       "1061    1061\n",
       "1062    1062\n",
       "1063    1063\n",
       "1064    1064\n",
       "1065    1065\n",
       "1066    1066\n",
       "1067    1067\n",
       "1068    1068\n",
       "1069    1069\n",
       "1070    1070\n",
       "dtype: int64"
      ]
     },
     "execution_count": 199,
     "metadata": {},
     "output_type": "execute_result"
    }
   ],
   "source": [
    "x = pandas.Series(numpy.arange(1000,1100), index=numpy.arange(1000,1100))\n",
    "x.loc[1050:1070]"
   ]
  },
  {
   "cell_type": "code",
   "execution_count": null,
   "metadata": {},
   "outputs": [],
   "source": [
    "\n",
    "    strand_translator = {'0': 1, '1': -1}\n",
    "\n",
    "    \n",
    "\n",
    "    "
   ]
  },
  {
   "cell_type": "code",
   "execution_count": null,
   "metadata": {},
   "outputs": [],
   "source": [
    "## Get total reads (for normalization) from tagInfo file."
   ]
  },
  {
   "cell_type": "code",
   "execution_count": null,
   "metadata": {},
   "outputs": [],
   "source": []
  },
  {
   "cell_type": "code",
   "execution_count": null,
   "metadata": {},
   "outputs": [],
   "source": [
    "from pgtools import pileups\n",
    "\n",
    "def load_tag_pileups(data_type, condition, strain, basepath='/home/dskola/projects/coupled_peaks/moremerged/pooled_tag_folders'):\n",
    "    pileup_folder = '/home/dskola/data/scratch/dskola/pileups/{}_{}_{}'.format(data_type, condition, strain)\n",
    "    os.makedirs(pileup_folder, exist_ok=True)\n",
    "    try:\n",
    "        this_pileup = pileups.Pileups.load(pileup_folder, 'r')\n",
    "    except (IOError, FileNotFoundError, OSError):\n",
    "        tag_folder = '/home/dskola/projects/coupled_peaks/moremerged/pooled_tag_folders/pooled_{}_{}_{}/'.format(data_type, condition, strain)\n",
    "        this_pileup = pileups.StrandedPileups(mm10_genome.contig_lengths, build='mm10')\n",
    "        this_pileup.load_from_homer_tag_directory(tag_folder)\n",
    "        this_pileup = this_pileup.mixDown()\n",
    "        this_pileup.__idiv__(this_pileup.total_reads / 10000000) \n",
    "        this_pileup.save(pileup_folder)\n",
    "        this_pileup = pileups.Pileups.load(pileup_folder, 'r')\n",
    "    return this_pileup\n",
    "\n",
    "def generate_vis_from_pileup(pileup, chrom, ws, we):\n",
    "    return pandas.Series(pileup.pileups[chrom][ws:we], index=numpy.arange(ws,we))"
   ]
  },
  {
   "cell_type": "code",
   "execution_count": null,
   "metadata": {},
   "outputs": [],
   "source": [
    "tag_pileups = {}\n",
    "for data_type in ('h3k27ac', 'rna', 'pu1', 'ctcf', 'atac'):\n",
    "    if data_type not in tag_pileups:\n",
    "        tag_pileups[data_type] = {}\n",
    "    for condition in ('notx',):\n",
    "        if condition not in tag_pileups[data_type]:\n",
    "            tag_pileups[data_type][condition] = {}\n",
    "        for strain in ('c57', 'balb'):\n",
    "            if strain not in tag_pileups[data_type][condition]:\n",
    "                tag_pileups[data_type][condition][strain] = load_tag_pileups(data_type, condition, strain)"
   ]
  },
  {
   "cell_type": "code",
   "execution_count": null,
   "metadata": {},
   "outputs": [],
   "source": [
    "pu1_tags = pygbrowse.plots.WigPlot()"
   ]
  }
 ],
 "metadata": {
  "kernelspec": {
   "display_name": "Python 3",
   "language": "python",
   "name": "python3"
  },
  "language_info": {
   "codemirror_mode": {
    "name": "ipython",
    "version": 3
   },
   "file_extension": ".py",
   "mimetype": "text/x-python",
   "name": "python",
   "nbconvert_exporter": "python",
   "pygments_lexer": "ipython3",
   "version": "3.6.5"
  }
 },
 "nbformat": 4,
 "nbformat_minor": 1
}
